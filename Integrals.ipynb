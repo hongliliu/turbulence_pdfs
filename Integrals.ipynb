{
 "metadata": {
  "name": "Integrals"
 },
 "nbformat": 3,
 "nbformat_minor": 0,
 "worksheets": [
  {
   "cells": [
    {
     "cell_type": "markdown",
     "metadata": {},
     "source": [
      "$$\\int_{-\\infty}^\\infty\\rho P_V(\\ln \\rho) d \\ln \\rho = \\rho_0 = 1$$\n",
      "\n",
      "The $\\delta$-function term of $P_V$ is $e^{-\\lambda} \\delta(u)$, and $u\\equiv \\frac{\\lambda}{1+T} - \\frac{\\ln \\rho}{T}$, so\n",
      "\n",
      "$$X = \\int_{-\\infty}^\\infty \\rho e^{-\\lambda} \\delta(u) du = 1$$ for $T>>1$, where $X$ is the \"extra\" $\\delta$-function term\n",
      "\n",
      "$du = \\frac{-1}{\\rho T} d\\rho$ (though I think the negative must be dropped somehow...)\n",
      "\n",
      "actually want $du = -1/T d \\ln \\rho$\n",
      "\n",
      "$$X = e^{-\\lambda} \\int_{-\\infty}^\\infty \\rho \\delta(\\frac{\\lambda}{1+T} - \\frac{\\ln \\rho}{T}) \\frac{1}{T} d\\ln\\rho$$\n",
      "\n",
      "now use $v=\\frac{\\ln \\rho}{T}$, $dv = \\frac{1}{T} d \\ln \\rho$, $\\rho=e^{v*T}$\n",
      "\n",
      "$$X = e^{-\\lambda} \\int_{-\\infty}^\\infty e^{v*T} \\delta(\\frac{\\lambda}{1+T} - v) dv$$\n",
      "\n",
      "\n"
     ]
    },
    {
     "cell_type": "markdown",
     "metadata": {},
     "source": [
      "$$X = e^{-\\lambda} e^{\\lambda T / (1+T)}$$"
     ]
    },
    {
     "cell_type": "markdown",
     "metadata": {},
     "source": [
      "$$ = e^{-\\lambda (1-\\frac{T}{1+T})} = e^{-\\lambda \\frac{1}{T+1}}$$"
     ]
    },
    {
     "cell_type": "code",
     "collapsed": false,
     "input": [],
     "language": "python",
     "metadata": {},
     "outputs": []
    }
   ],
   "metadata": {}
  }
 ]
}
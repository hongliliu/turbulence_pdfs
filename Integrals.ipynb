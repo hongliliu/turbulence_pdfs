{
 "metadata": {
  "name": "Integrals"
 },
 "nbformat": 3,
 "nbformat_minor": 0,
 "worksheets": [
  {
   "cells": [
    {
     "cell_type": "markdown",
     "metadata": {},
     "source": [
      "$$\\int_{-\\infty}^\\infty\\rho P_V(\\ln \\rho) d \\ln \\rho = \\rho_0 = 1$$\n",
      "\n",
      "The $\\delta$-function term of $P_V$ is $e^{-\\lambda} \\delta(u)$, and $u\\equiv \\frac{\\lambda}{1+T} - \\frac{\\ln \\rho}{T}$, so\n",
      "\n",
      "$$X = \\int_{-\\infty}^\\infty \\rho e^{-\\lambda} \\delta(u) du = 1$$ for $T>>1$, where $X$ is the \"extra\" $\\delta$-function term\n",
      "\n",
      "substitute $du = -1/T d \\ln \\rho$\n",
      "\n",
      "$$X = e^{-\\lambda} \\int_{-\\infty}^\\infty \\rho \\delta(\\frac{\\lambda}{1+T} - \\frac{\\ln \\rho}{T}) \\frac{1}{T} d\\ln\\rho$$\n",
      "\n",
      "now use $v=\\frac{\\ln \\rho}{T}$, $dv = \\frac{1}{T} d \\ln \\rho$, $\\rho=e^{v*T}$\n",
      "\n",
      "$$X = e^{-\\lambda} \\int_{-\\infty}^\\infty e^{v*T} \\delta(\\frac{\\lambda}{1+T} - v) dv$$\n",
      "\n",
      "\n"
     ]
    },
    {
     "cell_type": "markdown",
     "metadata": {},
     "source": [
      "$$X = e^{-\\lambda} e^{\\lambda T / (1+T)}$$"
     ]
    },
    {
     "cell_type": "markdown",
     "metadata": {},
     "source": [
      "$$ = e^{-\\lambda (1-\\frac{T}{1+T})} = e^{-\\lambda \\frac{1}{T+1}}$$"
     ]
    },
    {
     "cell_type": "markdown",
     "metadata": {},
     "source": [
      "Integrating the whole equation:\n",
      "\n",
      "$$P_V(\\ln \\rho) d \\ln \\rho =  \\left[I_1(2\\sqrt{\\lambda u}) e^{-\\lambda-u} \\sqrt{\\frac{\\lambda}{u}} + e^{-\\lambda} \\delta(u)\\right]du$$"
     ]
    },
    {
     "cell_type": "markdown",
     "metadata": {},
     "source": [
      "Again, substitute \n",
      "$$u\\equiv \\frac{\\lambda}{1+T} - \\frac{\\ln \\rho}{T}$$\n",
      "$$du = -\\frac{d \\ln \\rho}{T}$$"
     ]
    },
    {
     "cell_type": "markdown",
     "metadata": {},
     "source": [
      "$$P_V(\\ln \\rho) d \\ln \\rho =  \\frac{1}{T} \\left[I_1\\left(2\\sqrt{\\frac{\\lambda^2}{1+T} - \n",
      "\\frac{\\lambda \\ln \\rho}{T}}\\right) \\exp{\\left(-\\lambda-\\frac{\\lambda}{1+T}+\\frac{\\ln \\rho}{T}\\right)}\n",
      "\\sqrt{\\frac{\\lambda}{\\frac{\\lambda}{1+T} - \\frac{\\ln \\rho}{T}}} + \n",
      "e^{-\\lambda} \\delta(\\frac{\\lambda}{1+T} - \\frac{\\ln \\rho}{T})\\right]d \\ln \\rho$$"
     ]
    },
    {
     "cell_type": "markdown",
     "metadata": {},
     "source": [
      "Or, go the other way, and substitute\n",
      "$$x = 2 \\sqrt{\\lambda u} = 2\\sqrt{\\frac{\\lambda^2}{1+T} - \\frac{\\lambda \\ln \\rho}{T}}$$\n",
      "$$dx = \\sqrt{\\frac{\\lambda}{u}} du $$"
     ]
    },
    {
     "cell_type": "markdown",
     "metadata": {},
     "source": [
      "$$ \\ln \\rho = \\frac{T}{\\lambda}\\left(-(x/2)^2 + \\frac{\\lambda^2}{1+T}\\right) $$"
     ]
    },
    {
     "cell_type": "markdown",
     "metadata": {},
     "source": [
      "$$ \\rho = \\exp\\left[\\frac{T}{\\lambda}\\left(-(x/2)^2 + \\frac{\\lambda^2}{1+T}\\right) \\right]$$"
     ]
    },
    {
     "cell_type": "markdown",
     "metadata": {},
     "source": [
      "$$d \\ln \\rho = - \\frac{x T}{\\lambda} dx$$\n",
      "$$\\frac{d \\ln \\rho}{T} = - \\frac{x}{\\lambda} dx$$"
     ]
    },
    {
     "cell_type": "markdown",
     "metadata": {},
     "source": [
      "$$P_V(\\ln \\rho) d \\ln \\rho = P_V(x) \\frac{T}{\\lambda} x dx =  I_1(x) e^{-(x/2)^2/\\lambda -\\lambda} dx + e^{-\\lambda} \\delta\\left(\\frac{\\lambda}{1+T} -\\frac{1}{\\lambda}\\left(-(x/2)^2+\\frac{\\lambda^2}{1+T}\\right)\\right) \\frac{-x T}{\\lambda} dx$$"
     ]
    },
    {
     "cell_type": "markdown",
     "metadata": {},
     "source": [
      "I don't think this rearrangement is at all useful:\n",
      "$$P_V(x) dx = e^{-\\lambda} \\frac{\\lambda}{T} \\frac{1}{x} I_1(x) e^{-(x/2)^2/\\lambda} dx$$"
     ]
    },
    {
     "cell_type": "markdown",
     "metadata": {},
     "source": [
      "Must satisfy:\n",
      "\n",
      "$$\\int_{-\\infty}^{\\infty} P_V(\\ln \\rho) d\\ln \\rho = 1$$\n",
      "$$\\int_{-\\infty}^{\\infty} \\rho P_V(\\ln \\rho) d\\ln \\rho = \\rho_0$$ somehow"
     ]
    },
    {
     "cell_type": "markdown",
     "metadata": {},
     "source": [
      "The first conservation equation:\n",
      "$$\\int_{-\\infty}^{\\infty} I_1(x) e^{-(x/2)^2/\\lambda - \\lambda} dx$$"
     ]
    },
    {
     "cell_type": "markdown",
     "metadata": {},
     "source": [
      "The second conservation equation becomes:\n"
     ]
    },
    {
     "cell_type": "markdown",
     "metadata": {},
     "source": [
      "$$\\int_{-\\infty}^{\\infty} \\exp{\\left(\\frac{T}{\\lambda}\\left[-(x/2)^2 + \\frac{\\lambda^2}{1+T}\\right]\\right)} I_1(x) e^{-(x/2)^2/\\lambda-\\lambda} dx$$"
     ]
    },
    {
     "cell_type": "markdown",
     "metadata": {},
     "source": [
      "According to mathematica, the first equation integrates to $1-e^{-\\lambda}$, which makes sense since the $\\delta$ portion is $e^{-\\lambda}$.\n",
      "\n",
      "The second equation integrates to \n",
      "$$1-\\exp\\left[\\frac{-\\lambda}{1+T}\\right]$$\n",
      "with the delta portion\n",
      "$$-\\exp\\left[\\frac{-\\lambda}{1+T}\\right]$$\n",
      "so again, we have conservation.  The integral is 1.  Hrmph, this is the one where I want the integral to be $\\rho_0$...."
     ]
    },
    {
     "cell_type": "code",
     "collapsed": false,
     "input": [],
     "language": "python",
     "metadata": {},
     "outputs": []
    },
    {
     "cell_type": "code",
     "collapsed": false,
     "input": [],
     "language": "python",
     "metadata": {},
     "outputs": []
    },
    {
     "cell_type": "markdown",
     "metadata": {},
     "source": [
      "What happens if you just substitute $\\rho/\\rho_0$ for all instances of $\\rho$?\n",
      "\n",
      "Actually, should probably be $(\\rho-\\rho_0)$, since $\\rho_0$ is supposed to be the mean density (and therefore an offset)\n",
      "\n",
      "Nope, needs to be a log-offset so that there are never negative densities, also this is essentially a log-based distribution\n"
     ]
    },
    {
     "cell_type": "markdown",
     "metadata": {},
     "source": [
      "$$u\\equiv \\frac{\\lambda}{1+T} - \\frac{\\ln ((\\rho/\\rho_0))}{T}$$\n",
      "\n",
      "yields\n",
      "\n",
      "$$\\rho = \\rho_0 \\exp\\left[T (\\frac{\\lambda}{1+T} - \\frac{x^2}{4 \\lambda})\\right]$$\n",
      "\n",
      "i.e., just the equation above scaled by $\\rho_0$"
     ]
    },
    {
     "cell_type": "markdown",
     "metadata": {},
     "source": []
    },
    {
     "cell_type": "code",
     "collapsed": false,
     "input": [],
     "language": "python",
     "metadata": {},
     "outputs": []
    },
    {
     "cell_type": "code",
     "collapsed": false,
     "input": [],
     "language": "python",
     "metadata": {},
     "outputs": []
    },
    {
     "cell_type": "code",
     "collapsed": false,
     "input": [],
     "language": "python",
     "metadata": {},
     "outputs": []
    },
    {
     "cell_type": "markdown",
     "metadata": {},
     "source": [
      "Moment equations:\n",
      "$$<\\rho>_V \\equiv \\rho_0 \\equiv \\int_{-\\infty}^{\\infty} \\rho P_V(\\ln \\rho) d \\ln \\rho$$\n",
      "$$<\\ln \\rho>_V \\equiv \\int_{-\\infty}^{\\infty} \\ln \\rho P_V(\\ln \\rho) d \\ln \\rho$$\n",
      "$$<\\rho>_M \\equiv \\rho_0 \\equiv \\int_{-\\infty}^{\\infty} \\rho (\\rho P_V(\\ln \\rho)) d \\ln \\rho$$\n",
      "$$<\\ln \\rho>_M \\equiv \\int_{-\\infty}^{\\infty} \\ln \\rho (\\rho P_V(\\ln \\rho)) d \\ln \\rho$$"
     ]
    },
    {
     "cell_type": "markdown",
     "metadata": {},
     "source": [
      "Delta terms:\n",
      "\n",
      "$$<\\rho>_V \\equiv \\rho_0 \\equiv \\int_{-\\infty}^{\\infty} \\rho e^{-\\lambda}/T \\delta(\\frac{\\lambda}{1+T} - \\frac{\\ln\\rho}{T}) d \\ln \\rho$$\n",
      "$$<\\ln \\rho>_V \\equiv \\int_{-\\infty}^{\\infty} \\ln \\rho e^{-\\lambda}/T \\delta(\\frac{\\lambda}{1+T} - \\frac{\\ln\\rho}{T}) d \\ln \\rho$$\n",
      "$$<\\rho>_M \\equiv \\int_{-\\infty}^{\\infty} \\rho (\\rho e^{-\\lambda}/T \\delta(\\frac{\\lambda}{1+T} - \\frac{\\ln\\rho}{T})) d \\ln \\rho$$\n",
      "$$<\\ln \\rho>_M \\equiv \\int_{-\\infty}^{\\infty} \\ln \\rho (\\rho e^{-\\lambda}/T \\delta(\\frac{\\lambda}{1+T} - \\frac{\\ln\\rho}{T})) d \\ln \\rho$$"
     ]
    },
    {
     "cell_type": "markdown",
     "metadata": {},
     "source": [
      "Substitution: \n",
      "    $v=\\frac{\\ln \\rho}{T}$, $dv = \\frac{1}{T} d \\ln \\rho$, $\\rho=e^{v*T}$"
     ]
    },
    {
     "cell_type": "markdown",
     "metadata": {},
     "source": [
      "$$<\\rho>_V \\equiv \\rho_0 \\equiv \\int_{-\\infty}^{\\infty} e^{vT} e^{-\\lambda} \\delta(\\frac{\\lambda}{1+T} - v) d v$$\n",
      "$$<\\ln \\rho>_V \\equiv \\int_{-\\infty}^{\\infty} vT e^{-\\lambda} \\delta(\\frac{\\lambda}{1+T} - v) d v$$\n",
      "$$<\\rho>_M \\equiv \\rho_0 \\equiv \\int_{-\\infty}^{\\infty} e^{2vT} ( e^{-\\lambda} \\delta(\\frac{\\lambda}{1+T} - v)) d v$$\n",
      "$$<\\ln \\rho>_M \\equiv \\int_{-\\infty}^{\\infty} vT e^{vT} ( e^{-\\lambda} \\delta(\\frac{\\lambda}{1+T} - v)) d v$$"
     ]
    },
    {
     "cell_type": "markdown",
     "metadata": {},
     "source": [
      "Solutions:\n",
      "$$<\\rho>_{V\\delta} = - \\exp\\left[\\frac{T \\lambda }{1+T} - \\lambda\\right] = -\\exp\\left[-\\lambda \\frac{1}{1+T}\\right]$$\n",
      "$$<\\ln \\rho>_{V\\delta} = - e^{-\\lambda} \\frac{\\lambda T}{1+T}$$\n",
      "$$<\\rho>_{M\\delta} = - \\exp\\left[\\frac{2 T \\lambda }{1+T} - \\lambda\\right] = - \\exp\\left[\\lambda\\frac{T-1}{T+1}\\right]$$\n",
      "$$<\\ln \\rho>_{M\\delta} = - \\exp\\left[\\frac{T \\lambda }{1+T} - \\lambda\\right] \\frac{\\lambda T}{1+T} $$    "
     ]
    },
    {
     "cell_type": "code",
     "collapsed": false,
     "input": [],
     "language": "python",
     "metadata": {},
     "outputs": []
    },
    {
     "cell_type": "markdown",
     "metadata": {},
     "source": [
      "$$E[\\rho^2] = \\int \\rho^2 P_v(\\ln (\\rho/\\rho_0) ) d\\ln \\rho$$\n",
      "$$=\\int_{-\\infty}^{\\infty} \\rho_0^2 \\exp{\\left(2\\frac{T}{\\lambda}\\left[-(x/2)^2 + \\frac{\\lambda^2}{1+T}\\right]\\right)} I_1(x) e^{-(x/2)^2/\\lambda-\\lambda} dx + \\int_{-\\infty}^{\\infty} \\rho^2 \\frac{e^{-\\lambda}}{T} \\delta(\\frac{\\lambda}{1+T} - \\frac{\\ln\\rho/\\rho_0}{T}) d \\ln \\rho$$\n",
      "$$=\\rho_0^2 \\exp\\left[ \\lambda \\frac{2 T^2}{1+3T+2T^2} \\right]$$"
     ]
    },
    {
     "cell_type": "code",
     "collapsed": false,
     "input": [
      "\n"
     ],
     "language": "python",
     "metadata": {},
     "outputs": []
    },
    {
     "cell_type": "code",
     "collapsed": false,
     "input": [],
     "language": "python",
     "metadata": {},
     "outputs": []
    },
    {
     "cell_type": "markdown",
     "metadata": {},
     "source": [
      "Integral over all $\\rho$ by parts:"
     ]
    },
    {
     "cell_type": "markdown",
     "metadata": {},
     "source": [
      "$$dv=e^{-(x/2)^2/\\lambda} dx$$\n",
      "$$u=I_1(x)$$"
     ]
    },
    {
     "cell_type": "code",
     "collapsed": false,
     "input": [
      "from mpmath import *\n",
      "from sympy import *"
     ],
     "language": "python",
     "metadata": {},
     "outputs": [],
     "prompt_number": 1
    },
    {
     "cell_type": "code",
     "collapsed": false,
     "input": [
      "x=var('x')\n",
      "diff(sympy.functions.special.bessel.besseli(1,x))"
     ],
     "language": "python",
     "metadata": {},
     "outputs": [
      {
       "metadata": {},
       "output_type": "pyout",
       "prompt_number": 5,
       "text": [
        "besseli(0, x)/2 + besseli(2, x)/2"
       ]
      }
     ],
     "prompt_number": 5
    },
    {
     "cell_type": "code",
     "collapsed": false,
     "input": [
      "L=var('L')\n",
      "integrate(exp(-(x/2)**2/L),x)"
     ],
     "language": "python",
     "metadata": {},
     "outputs": [
      {
       "metadata": {},
       "output_type": "pyout",
       "prompt_number": 6,
       "text": [
        "sqrt(pi)*erf(x*sqrt(1/L)/2)/sqrt(1/L)"
       ]
      }
     ],
     "prompt_number": 6
    },
    {
     "cell_type": "markdown",
     "metadata": {},
     "source": [
      "$$v = \\sqrt{\\pi} \\mathrm{erf}(x/2*\\sqrt{1/\\lambda}) / \\sqrt{1/\\lambda}$$\n",
      "$$du = (I_0(x)/2 + I_2(x)/2) dx$$"
     ]
    },
    {
     "cell_type": "code",
     "collapsed": false,
     "input": [
      "integrate(erf(x) * besseli(1,x),x)"
     ],
     "language": "python",
     "metadata": {},
     "outputs": [
      {
       "metadata": {},
       "output_type": "pyout",
       "prompt_number": 8,
       "text": [
        "Integral(besseli(1, x)*erf(x), x)"
       ]
      }
     ],
     "prompt_number": 8
    },
    {
     "cell_type": "code",
     "collapsed": false,
     "input": [
      "integrate(erf(x) * besseli(0,x),x)"
     ],
     "language": "python",
     "metadata": {},
     "outputs": [
      {
       "metadata": {},
       "output_type": "pyout",
       "prompt_number": 9,
       "text": [
        "Integral(besseli(0, x)*erf(x), x)"
       ]
      }
     ],
     "prompt_number": 9
    },
    {
     "cell_type": "code",
     "collapsed": false,
     "input": [
      "integrate(erf(x)*x*besseli(0,x),x)"
     ],
     "language": "python",
     "metadata": {},
     "outputs": [
      {
       "metadata": {},
       "output_type": "pyout",
       "prompt_number": 10,
       "text": [
        "Integral(x*besseli(0, x)*erf(x), x)"
       ]
      }
     ],
     "prompt_number": 10
    },
    {
     "cell_type": "code",
     "collapsed": false,
     "input": [
      "result = exp(-L) * integrate(besseli(1,x) * exp(-(x/2)**2 / L), (x,0,inf))\n",
      "result"
     ],
     "language": "python",
     "metadata": {},
     "outputs": [
      {
       "metadata": {},
       "output_type": "pyout",
       "prompt_number": 35,
       "text": [
        "sqrt(pi)*exp(-L)*besseli(1, +inf)*erf(-(-1)*+inf*sqrt(1/L))/sqrt(1/L)"
       ]
      }
     ],
     "prompt_number": 35
    },
    {
     "cell_type": "code",
     "collapsed": false,
     "input": [
      "u=var('u')\n",
      "result.subs(x,2*sqrt(L*u))"
     ],
     "language": "python",
     "metadata": {},
     "outputs": [
      {
       "metadata": {},
       "output_type": "pyout",
       "prompt_number": 36,
       "text": [
        "sqrt(pi)*exp(-L)*besseli(1, +inf)*erf(-(-1)*+inf*sqrt(1/L))/sqrt(1/L)"
       ]
      }
     ],
     "prompt_number": 36
    },
    {
     "cell_type": "code",
     "collapsed": false,
     "input": [
      "besseli?"
     ],
     "language": "python",
     "metadata": {},
     "outputs": [],
     "prompt_number": 38
    },
    {
     "cell_type": "code",
     "collapsed": false,
     "input": [
      "x=var('x')\n",
      "L=var('L')\n",
      "Q.positive(1/L)\n",
      "integrate(besseli(1,x) * exp(-x**2/(4*L)-L),(x,0,inf))"
     ],
     "language": "python",
     "metadata": {},
     "outputs": [
      {
       "metadata": {},
       "output_type": "pyout",
       "prompt_number": 10,
       "text": [
        "Integral(exp(-L - x**2/(4*L))*besseli(1, x), (x, 0, +inf))"
       ]
      }
     ],
     "prompt_number": 10
    },
    {
     "cell_type": "code",
     "collapsed": false,
     "input": [
      "besseli"
     ],
     "language": "python",
     "metadata": {},
     "outputs": [
      {
       "metadata": {},
       "output_type": "pyout",
       "prompt_number": 11,
       "text": [
        "sympy.functions.special.bessel.besseli"
       ]
      }
     ],
     "prompt_number": 11
    },
    {
     "cell_type": "markdown",
     "metadata": {},
     "source": [
      "Moments:"
     ]
    },
    {
     "cell_type": "markdown",
     "metadata": {},
     "source": [
      "$$\\operatorname{Var}(X) =\\sigma^2 =\\int (x-\\mu)^2 \\, f(x) \\, dx\\, =\\int x^2 \\, f(x) \\, dx\\, - \\mu^2$$\n"
     ]
    },
    {
     "cell_type": "markdown",
     "metadata": {},
     "source": [
      "$$Var(P_V) = \\int_"
     ]
    }
   ],
   "metadata": {}
  }
 ]
}
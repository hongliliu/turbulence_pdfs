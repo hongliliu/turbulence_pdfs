{
 "metadata": {
  "name": "Integrals"
 },
 "nbformat": 3,
 "nbformat_minor": 0,
 "worksheets": [
  {
   "cells": [
    {
     "cell_type": "markdown",
     "metadata": {},
     "source": [
      "$$\\int_{-\\infty}^\\infty\\rho P_V(\\ln \\rho) d \\ln \\rho = \\rho_0 = 1$$\n",
      "\n",
      "The $\\delta$-function term of $P_V$ is $e^{-\\lambda} \\delta(u)$, and $u\\equiv \\frac{\\lambda}{1+T} - \\frac{\\ln \\rho}{T}$, so\n",
      "\n",
      "$$X = \\int_{-\\infty}^\\infty \\rho e^{-\\lambda} \\delta(u) du = 1$$ for $T>>1$\n",
      "\n",
      "$du = \\frac{-1}{\\rho T} d\\rho$ (though I think the negative must be dropped somehow...)\n",
      "\n",
      "$$X = e^{-\\lambda} \\int_{-\\infty}^\\infty \\rho \\delta(\\frac{\\lambda}{1+T} - \\frac{\\ln \\rho}{T}) \\frac{1}{\\rho T} d\\rho$$\n",
      "$$  = \\frac{e^{-\\lambda}}{T} \\int_{-\\infty}^\\infty \\delta(\\frac{\\lambda}{1+T} - \\frac{\\ln \\rho}{T}) d\\rho$$\n",
      "$$  = \\frac{e^{-\\lambda}}{T}$$ "
     ]
    },
    {
     "cell_type": "code",
     "collapsed": false,
     "input": [],
     "language": "python",
     "metadata": {},
     "outputs": []
    }
   ],
   "metadata": {}
  }
 ]
}